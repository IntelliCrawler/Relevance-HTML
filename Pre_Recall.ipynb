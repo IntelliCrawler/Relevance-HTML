{
 "cells": [
  {
   "cell_type": "code",
   "execution_count": 3,
   "metadata": {},
   "outputs": [],
   "source": [
    "import numpy as np"
   ]
  },
  {
   "cell_type": "code",
   "execution_count": 4,
   "metadata": {},
   "outputs": [],
   "source": [
    "res = (np.array([0., 1. , 1. , 1. , 0., 1. , 0, 1. , 1. , 1. , 0., 0., 0., 0. , 1., 0., 0. , 0. , 0. , 0. , 0. , 0. , 0. , 0. , 0. , 1. ]),\n",
    "np.array([1. , 1. , 1. , 1. , 1. , 1. , 1. , 1. , 1. , 1. , 0., 0., 0., 0., 0., 0., 0., 0. , 1. , 0. , 0. , 0. , 0. , 0. , 0. , 1. ]))"
   ]
  },
  {
   "cell_type": "code",
   "execution_count": 5,
   "metadata": {},
   "outputs": [
    {
     "data": {
      "text/plain": [
       "(array([0., 1., 1., 1., 0., 1., 0., 1., 1., 1., 0., 0., 0., 0., 1., 0., 0.,\n",
       "        0., 0., 0., 0., 0., 0., 0., 0., 1.]),\n",
       " array([1., 1., 1., 1., 1., 1., 1., 1., 1., 1., 0., 0., 0., 0., 0., 0., 0.,\n",
       "        0., 1., 0., 0., 0., 0., 0., 0., 1.]))"
      ]
     },
     "execution_count": 5,
     "metadata": {},
     "output_type": "execute_result"
    }
   ],
   "source": [
    "res"
   ]
  },
  {
   "cell_type": "code",
   "execution_count": 6,
   "metadata": {},
   "outputs": [
    {
     "data": {
      "text/plain": [
       "array([0., 1., 1., 1., 0., 1., 0., 1., 1., 1., 0., 0., 0., 0., 1., 0., 0.,\n",
       "       0., 0., 0., 0., 0., 0., 0., 0., 1.])"
      ]
     },
     "execution_count": 6,
     "metadata": {},
     "output_type": "execute_result"
    }
   ],
   "source": [
    "res[0]"
   ]
  },
  {
   "cell_type": "code",
   "execution_count": 7,
   "metadata": {},
   "outputs": [
    {
     "data": {
      "text/plain": [
       "array([1., 1., 1., 1., 1., 1., 1., 1., 1., 1., 0., 0., 0., 0., 0., 0., 0.,\n",
       "       0., 1., 0., 0., 0., 0., 0., 0., 1.])"
      ]
     },
     "execution_count": 7,
     "metadata": {},
     "output_type": "execute_result"
    }
   ],
   "source": [
    "res[1]"
   ]
  },
  {
   "cell_type": "code",
   "execution_count": 8,
   "metadata": {},
   "outputs": [],
   "source": [
    "def Recall(pre, lab):\n",
    "    irre_lab = 0\n",
    "    irre_pre = 0\n",
    "    re_lab = 0\n",
    "    re_pre = 0\n",
    "    for i in range(0, len(lab)):\n",
    "        if lab[i] == 0:\n",
    "            irre_lab += 1\n",
    "            if pre[i] == 0:\n",
    "                irre_pre += 1\n",
    "        else:\n",
    "            re_lab += 1\n",
    "            if lab[i] == 1:\n",
    "                re_pre += 1\n",
    "    irre_recall = irre_pre/irre_lab\n",
    "    re_recall = re_pre/re_lab\n",
    "    \n",
    "    return (re_recall, irre_recall)"
   ]
  },
  {
   "cell_type": "code",
   "execution_count": 9,
   "metadata": {},
   "outputs": [],
   "source": [
    "def Precision(pre, lab):\n",
    "    irre_lab = 0\n",
    "    irre_pre = 0\n",
    "    re_lab = 0\n",
    "    re_pre = 0\n",
    "    for i in range(0, len(pre)):\n",
    "        if pre[i] == 0:\n",
    "            irre_pre += 1\n",
    "            if lab[i] == 0:\n",
    "                irre_lab += 1\n",
    "        else:\n",
    "            re_pre += 1\n",
    "            if lab[i] == 1:\n",
    "                re_lab += 1\n",
    "    irre_precision = irre_lab/irre_pre\n",
    "    re_precision = re_lab/re_pre\n",
    "    \n",
    "    return (re_precision, irre_precision)"
   ]
  },
  {
   "cell_type": "code",
   "execution_count": 10,
   "metadata": {},
   "outputs": [
    {
     "data": {
      "text/plain": [
       "(0.8888888888888888, 0.7647058823529411)"
      ]
     },
     "execution_count": 10,
     "metadata": {},
     "output_type": "execute_result"
    }
   ],
   "source": [
    "Precision(res[0], res[1])"
   ]
  },
  {
   "cell_type": "code",
   "execution_count": 11,
   "metadata": {},
   "outputs": [
    {
     "data": {
      "text/plain": [
       "(1.0, 0.9285714285714286)"
      ]
     },
     "execution_count": 11,
     "metadata": {},
     "output_type": "execute_result"
    }
   ],
   "source": [
    "Recall(res[0], res[1])"
   ]
  },
  {
   "cell_type": "code",
   "execution_count": 12,
   "metadata": {},
   "outputs": [],
   "source": [
    "def Accuracy(pre, lab):\n",
    "    base = 0\n",
    "    for i in range(0, len(pre)):\n",
    "        if pre[i] == lab[i]:\n",
    "            base += 1\n",
    "    acc = base/len(pre)\n",
    "    return acc"
   ]
  },
  {
   "cell_type": "code",
   "execution_count": 13,
   "metadata": {},
   "outputs": [
    {
     "data": {
      "text/plain": [
       "0.8076923076923077"
      ]
     },
     "execution_count": 13,
     "metadata": {},
     "output_type": "execute_result"
    }
   ],
   "source": [
    "Accuracy(res[0], res[1])"
   ]
  },
  {
   "cell_type": "code",
   "execution_count": null,
   "metadata": {},
   "outputs": [],
   "source": []
  }
 ],
 "metadata": {
  "kernelspec": {
   "display_name": "Python 3",
   "language": "python",
   "name": "python3"
  },
  "language_info": {
   "codemirror_mode": {
    "name": "ipython",
    "version": 3
   },
   "file_extension": ".py",
   "mimetype": "text/x-python",
   "name": "python",
   "nbconvert_exporter": "python",
   "pygments_lexer": "ipython3",
   "version": "3.6.3"
  }
 },
 "nbformat": 4,
 "nbformat_minor": 2
}
