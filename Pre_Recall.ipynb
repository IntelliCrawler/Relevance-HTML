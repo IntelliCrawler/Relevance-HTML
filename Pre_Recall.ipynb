{
 "cells": [
  {
   "cell_type": "code",
   "execution_count": 3,
   "metadata": {},
   "outputs": [],
   "source": [
    "import numpy as np"
   ]
  },
  {
   "cell_type": "code",
   "execution_count": 26,
   "metadata": {},
   "outputs": [],
   "source": [
    "res = (np.array([0., 1. , 1. , 1. , 0., 1. , 0, 1. , 1. , 1. , 0., 0., 0., 0. , 1., 0., 0. , 0. , 0. , 0. , 0. , 0. , 0. , 0. , 0. , 1. ]),\n",
    "np.array([1. , 1. , 1. , 1. , 1. , 1. , 1. , 1. , 1. , 1. , 0., 0., 0., 0., 0., 0., 0., 0. , 1. , 0. , 0. , 0. , 0. , 0. , 0. , 1. ]))"
   ]
  },
  {
   "cell_type": "code",
   "execution_count": 27,
   "metadata": {},
   "outputs": [
    {
     "data": {
      "text/plain": [
       "(array([0., 1., 1., 1., 0., 1., 0., 1., 1., 1., 0., 0., 0., 0., 1., 0., 0.,\n",
       "        0., 0., 0., 0., 0., 0., 0., 0., 1.]),\n",
       " array([1., 1., 1., 1., 1., 1., 1., 1., 1., 1., 0., 0., 0., 0., 0., 0., 0.,\n",
       "        0., 1., 0., 0., 0., 0., 0., 0., 1.]))"
      ]
     },
     "execution_count": 27,
     "metadata": {},
     "output_type": "execute_result"
    }
   ],
   "source": [
    "res"
   ]
  },
  {
   "cell_type": "code",
   "execution_count": 28,
   "metadata": {},
   "outputs": [
    {
     "data": {
      "text/plain": [
       "array([0., 1., 1., 1., 0., 1., 0., 1., 1., 1., 0., 0., 0., 0., 1., 0., 0.,\n",
       "       0., 0., 0., 0., 0., 0., 0., 0., 1.])"
      ]
     },
     "execution_count": 28,
     "metadata": {},
     "output_type": "execute_result"
    }
   ],
   "source": [
    "res[0]"
   ]
  },
  {
   "cell_type": "code",
   "execution_count": 29,
   "metadata": {},
   "outputs": [
    {
     "data": {
      "text/plain": [
       "array([1., 1., 1., 1., 1., 1., 1., 1., 1., 1., 0., 0., 0., 0., 0., 0., 0.,\n",
       "       0., 1., 0., 0., 0., 0., 0., 0., 1.])"
      ]
     },
     "execution_count": 29,
     "metadata": {},
     "output_type": "execute_result"
    }
   ],
   "source": [
    "res[1]"
   ]
  },
  {
   "cell_type": "code",
   "execution_count": 40,
   "metadata": {},
   "outputs": [],
   "source": [
    "def Recall(pre, lab):\n",
    "    irre_lab = 0\n",
    "    irre_pre = 0\n",
    "    re_lab = 0\n",
    "    re_pre = 0\n",
    "    for i in range(0, len(lab)):\n",
    "        if lab[i] == 0:\n",
    "            irre_lab += 1\n",
    "            if pre[i] == 0:\n",
    "                irre_pre += 1\n",
    "        else:\n",
    "            re_lab += 1\n",
    "            if lab[i] == 1:\n",
    "                re_pre += 1\n",
    "    irre_recall = irre_pre/irre_lab\n",
    "    re_recall = re_pre/re_lab\n",
    "    \n",
    "    return (re_recall, irre_recall)"
   ]
  },
  {
   "cell_type": "code",
   "execution_count": 41,
   "metadata": {},
   "outputs": [],
   "source": [
    "def Precision(pre, lab):\n",
    "    irre_lab = 0\n",
    "    irre_pre = 0\n",
    "    re_lab = 0\n",
    "    re_pre = 0\n",
    "    for i in range(0, len(pre)):\n",
    "        if pre[i] == 0:\n",
    "            irre_pre += 1\n",
    "            if lab[i] == 0:\n",
    "                irre_lab += 1\n",
    "        else:\n",
    "            re_pre += 1\n",
    "            if lab[i] == 1:\n",
    "                re_lab += 1\n",
    "    irre_precision = irre_lab/irre_pre\n",
    "    re_precision = re_lab/re_pre\n",
    "    \n",
    "    return (re_precision, irre_precision)"
   ]
  },
  {
   "cell_type": "code",
   "execution_count": 42,
   "metadata": {},
   "outputs": [
    {
     "data": {
      "text/plain": [
       "(0.8888888888888888, 0.7647058823529411)"
      ]
     },
     "execution_count": 42,
     "metadata": {},
     "output_type": "execute_result"
    }
   ],
   "source": [
    "Precision(res[0], res[1])"
   ]
  },
  {
   "cell_type": "code",
   "execution_count": 36,
   "metadata": {},
   "outputs": [
    {
     "data": {
      "text/plain": [
       "(1.0, 0.9285714285714286)"
      ]
     },
     "execution_count": 36,
     "metadata": {},
     "output_type": "execute_result"
    }
   ],
   "source": [
    "Recall(res[0], res[1])"
   ]
  },
  {
   "cell_type": "code",
   "execution_count": null,
   "metadata": {},
   "outputs": [],
   "source": []
  }
 ],
 "metadata": {
  "kernelspec": {
   "display_name": "Python 3",
   "language": "python",
   "name": "python3"
  },
  "language_info": {
   "codemirror_mode": {
    "name": "ipython",
    "version": 3
   },
   "file_extension": ".py",
   "mimetype": "text/x-python",
   "name": "python",
   "nbconvert_exporter": "python",
   "pygments_lexer": "ipython3",
   "version": "3.6.3"
  }
 },
 "nbformat": 4,
 "nbformat_minor": 2
}
