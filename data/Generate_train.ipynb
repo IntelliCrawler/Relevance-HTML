{
 "cells": [
  {
   "cell_type": "code",
   "execution_count": 80,
   "metadata": {
    "collapsed": true
   },
   "outputs": [],
   "source": [
    "import numpy as np\n",
    "import random"
   ]
  },
  {
   "cell_type": "code",
   "execution_count": 81,
   "metadata": {},
   "outputs": [],
   "source": [
    "# Read files to list of urls and labels\n",
    "filesname = [\"science.txt\", \"entertainment.txt\", \"health.txt\", \"business.txt\"]\n",
    "files = []\n",
    "for f in filesname:\n",
    "    files.append(open(f).read().split('\\n'))"
   ]
  },
  {
   "cell_type": "code",
   "execution_count": 82,
   "metadata": {},
   "outputs": [],
   "source": [
    "# Generate a dictionay {0\\1: list of urls} for every file\n",
    "f_dic = []\n",
    "for f in files:\n",
    "    dic = {}\n",
    "    dic[0] = []\n",
    "    dic[1] = []\n",
    "    for s in f:\n",
    "        s_list = s.split(' ')\n",
    "        if s_list[0] == '0':\n",
    "            dic[0].append(s_list[1])\n",
    "        elif s_list[0] == '1':\n",
    "            dic[1].append(s_list[1])\n",
    "    f_dic.append(dic)"
   ]
  },
  {
   "cell_type": "code",
   "execution_count": 83,
   "metadata": {},
   "outputs": [],
   "source": [
    "# Generate train\n",
    "train_size = 200\n",
    "for i in range(len(filesname)):\n",
    "    index_0 = int(random.randint(0, len(f_dic[i][0])))\n",
    "    train_0 = f_dic[i][0][index_0 : index_0 + int(train_size / 2)]\n",
    "    index_1 = int(random.randint(0, len(f_dic[i][1])))\n",
    "    train_1 = f_dic[i][1][index_1 : index_1 + int(train_size / 2)]\n",
    "    output = []\n",
    "    for j in train_0:\n",
    "        output.append(\"0 \" + j)\n",
    "    for j in train_1:\n",
    "        output.append(\"1 \" + j)\n",
    "    to_write = '\\n'.join(output)\n",
    "    file = open(filesname[i][:-4] + \"_\" + \"train\" + str(train_size) + \".txt\", \"w\")\n",
    "    file.write(to_write)"
   ]
  },
  {
   "cell_type": "code",
   "execution_count": 84,
   "metadata": {
    "collapsed": true
   },
   "outputs": [],
   "source": [
    "# Generate test\n",
    "test_size = 178\n",
    "for i in range(len(filesname)):\n",
    "    index_0 = int(random.randint(0, len(f_dic[i][0])))\n",
    "    train_0 = f_dic[i][0][index_0 : index_0 + int(test_size / 2)]\n",
    "    index_1 = int(random.randint(0, len(f_dic[i][1])))\n",
    "    train_1 = f_dic[i][1][index_1 : index_1 + int(test_size / 2)]\n",
    "    output = []\n",
    "    for j in train_0:\n",
    "        output.append(\"0 \" + j)\n",
    "    for j in train_1:\n",
    "        output.append(\"1 \" + j)\n",
    "    to_write = '\\n'.join(output)\n",
    "    file = open(filesname[i][:-4] + \"_\" + \"test\" + str(test_size) + \".txt\", \"w\")\n",
    "    file.write(to_write)"
   ]
  },
  {
   "cell_type": "code",
   "execution_count": null,
   "metadata": {
    "collapsed": true
   },
   "outputs": [],
   "source": []
  }
 ],
 "metadata": {
  "kernelspec": {
   "display_name": "Python 3",
   "language": "python",
   "name": "python3"
  },
  "language_info": {
   "codemirror_mode": {
    "name": "ipython",
    "version": 3
   },
   "file_extension": ".py",
   "mimetype": "text/x-python",
   "name": "python",
   "nbconvert_exporter": "python",
   "pygments_lexer": "ipython3",
   "version": "3.6.6"
  }
 },
 "nbformat": 4,
 "nbformat_minor": 2
}
