{
 "cells": [
  {
   "cell_type": "code",
   "execution_count": null,
   "metadata": {
    "collapsed": true
   },
   "outputs": [],
   "source": [
    "import math\n",
    "import numpy as np\n",
    "import re\n",
    "import gensim\n",
    "path = \"GoogleNews-vectors-negative300.bin\"\n",
    "model = gensim.models.KeyedVectors.load_word2vec_format(path, binary=True)"
   ]
  },
  {
   "cell_type": "code",
   "execution_count": null,
   "metadata": {
    "collapsed": true
   },
   "outputs": [],
   "source": [
    "import string\n",
    "from collections import defaultdict\n",
    "import requests\n",
    "from bs4 import BeautifulSoup"
   ]
  },
  {
   "cell_type": "code",
   "execution_count": 180,
   "metadata": {
    "collapsed": true
   },
   "outputs": [],
   "source": [
    "def get_tf(s, topic, contain_topic):\n",
    "    #get tf\n",
    "    rele_words = 0\n",
    "    l = s.split()\n",
    "    for w in l:\n",
    "        sim = 0\n",
    "        try:\n",
    "            sim = model.similarity(topic, w)\n",
    "        except Exception:\n",
    "            sim = 0\n",
    "        if sim >= 0.8:\n",
    "            rele_words += 1\n",
    "    tf = rele_words / len(l)\n",
    "    #update idf\n",
    "    if tf > 0 or contain_topic[0]:\n",
    "        contain_topic[0] = True\n",
    "    return tf"
   ]
  },
  {
   "cell_type": "code",
   "execution_count": 215,
   "metadata": {
    "collapsed": true
   },
   "outputs": [],
   "source": [
    "def get_features(d, topic):\n",
    "    fea = {}\n",
    "    contain_topic = [False]\n",
    "    for k, v in d.items():\n",
    "        fea[k] = get_tf(v, topic, contain_topic)\n",
    "    return (fea, contain_topic[0])"
   ]
  },
  {
   "cell_type": "code",
   "execution_count": 185,
   "metadata": {
    "collapsed": true
   },
   "outputs": [],
   "source": [
    "def get_tfidf(dic, topic):\n",
    "    num_doc_within_topic = 0\n",
    "    html_tf = []\n",
    "    for d in dic:\n",
    "        fea, contain_topic = get_features(d, topic)\n",
    "        if contain_topic:\n",
    "            num_doc_within_topic += 1\n",
    "        html_tf.append(fea)\n",
    "    #idf \n",
    "    html_idf = math.log(len(dic) / num_doc_within_topic + 1)\n",
    "    #Mulitiple idf to tf\n",
    "    for tf in html_tf:\n",
    "        for k, v in tf.items():\n",
    "            tf[k] = v * html_idf\n",
    "    return html_tf"
   ]
  },
  {
   "cell_type": "code",
   "execution_count": 213,
   "metadata": {
    "collapsed": true
   },
   "outputs": [],
   "source": [
    "def extract_text_by_tags(url,\n",
    "                         tags=[\n",
    "                             'title', 'h1', 'h2', 'h3', 'h4', 'h5', 'h6', 'p',\n",
    "                             'ul', 'ol', 'table'\n",
    "                         ]):\n",
    "    try:\n",
    "        r = requests.get(url)\n",
    "        r.raise_for_status()\n",
    "    except Exception:\n",
    "        return None\n",
    "    soup = BeautifulSoup(r.text, 'html.parser')\n",
    "    elements = defaultdict(list)\n",
    "    for tag in tags:\n",
    "        for elem in soup.find_all(tag):\n",
    "            stripped = elem.text.translate(\n",
    "                str.maketrans(\n",
    "                    str.maketrans(dict.fromkeys(string.punctuation))))\n",
    "            stripped = re.sub(r'\\s+', ' ', stripped).strip()\n",
    "            if stripped:\n",
    "                elements[tag].append(stripped.lower())\n",
    "    for tag, elem in elements.items():\n",
    "        elements[tag] = ' '.join(elements[tag])\n",
    "    return elements"
   ]
  },
  {
   "cell_type": "code",
   "execution_count": 228,
   "metadata": {
    "collapsed": true
   },
   "outputs": [],
   "source": [
    "# read train and label\n",
    "data = open('train.txt', 'r').read().split('\\n')\n",
    "train = []\n",
    "label = []\n",
    "for d in data:\n",
    "    d_list = d.split()\n",
    "    ret = extract_text_by_tags(d_list[1])\n",
    "    if ret:\n",
    "        train.append(ret)\n",
    "        label.append(d_list[0])"
   ]
  },
  {
   "cell_type": "code",
   "execution_count": 2,
   "metadata": {},
   "outputs": [
    {
     "ename": "NameError",
     "evalue": "name 'get_tfidf' is not defined",
     "output_type": "error",
     "traceback": [
      "\u001b[0;31m---------------------------------------------------------------------------\u001b[0m",
      "\u001b[0;31mNameError\u001b[0m                                 Traceback (most recent call last)",
      "\u001b[0;32m<ipython-input-2-b3402a6b2d6e>\u001b[0m in \u001b[0;36m<module>\u001b[0;34m()\u001b[0m\n\u001b[1;32m      1\u001b[0m \u001b[0;31m# Get raw features of train\u001b[0m\u001b[0;34m\u001b[0m\u001b[0;34m\u001b[0m\u001b[0m\n\u001b[0;32m----> 2\u001b[0;31m \u001b[0mraw_fea\u001b[0m \u001b[0;34m=\u001b[0m \u001b[0mget_tfidf\u001b[0m\u001b[0;34m(\u001b[0m\u001b[0mtrain\u001b[0m\u001b[0;34m,\u001b[0m \u001b[0;34m\"university\"\u001b[0m\u001b[0;34m)\u001b[0m\u001b[0;34m\u001b[0m\u001b[0m\n\u001b[0m",
      "\u001b[0;31mNameError\u001b[0m: name 'get_tfidf' is not defined"
     ]
    }
   ],
   "source": [
    "# Get raw features of train\n",
    "raw_fea = get_tfidf(train, \"university\")"
   ]
  },
  {
   "cell_type": "code",
   "execution_count": 230,
   "metadata": {
    "collapsed": true
   },
   "outputs": [],
   "source": [
    "# Get complete features of train\n",
    "tag_list = ['title', 'h1', 'h2', 'h3', 'h4', 'h5', 'h6', 'p', 'ul', 'ol', 'table']\n",
    "train_fea = []\n",
    "for r in raw_fea:\n",
    "    fea = np.zeros(11)\n",
    "    for k, v in r.items():\n",
    "        fea[tag_list.index(k)] = v\n",
    "    train_fea.append(fea)"
   ]
  },
  {
   "cell_type": "code",
   "execution_count": 1,
   "metadata": {},
   "outputs": [],
   "source": [
    "# X = train_fea Y = label\n"
   ]
  },
  {
   "cell_type": "code",
   "execution_count": null,
   "metadata": {
    "collapsed": true
   },
   "outputs": [],
   "source": []
  }
 ],
 "metadata": {
  "kernelspec": {
   "display_name": "Python 3",
   "language": "python",
   "name": "python3"
  },
  "language_info": {
   "codemirror_mode": {
    "name": "ipython",
    "version": 3
   },
   "file_extension": ".py",
   "mimetype": "text/x-python",
   "name": "python",
   "nbconvert_exporter": "python",
   "pygments_lexer": "ipython3",
   "version": "3.6.6"
  }
 },
 "nbformat": 4,
 "nbformat_minor": 2
}
